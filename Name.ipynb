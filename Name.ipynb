{
 "cells": [
  {
   "cell_type": "markdown",
   "id": "4a70dd7b",
   "metadata": {},
   "source": [
    "My name is Muby."
   ]
  },
  {
   "cell_type": "code",
   "execution_count": null,
   "id": "ab93f102",
   "metadata": {},
   "outputs": [
    {
     "data": {
      "text/plain": [
       "877796"
      ]
     },
     "execution_count": null,
     "metadata": {},
     "output_type": "execute_result"
    }
   ],
   "source": [
    "x = 874698 + 3098\n",
    "y = 79678309 - 8795\n",
    "x"
   ]
  },
  {
   "cell_type": "code",
   "execution_count": null,
   "id": "89e31b10",
   "metadata": {},
   "outputs": [],
   "source": []
  }
 ],
 "metadata": {
  "kernelspec": {
   "display_name": "Python 3 (ipykernel)",
   "language": "python",
   "name": "python3"
  }
 },
 "nbformat": 4,
 "nbformat_minor": 5
}
