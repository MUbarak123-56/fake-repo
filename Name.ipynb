{
 "cells": [
  {
   "cell_type": "markdown",
   "id": "4a70dd7b",
   "metadata": {},
   "source": [
    "My name is Muby."
   ]
  },
  {
   "cell_type": "code",
   "execution_count": null,
   "id": "ab93f102",
   "metadata": {},
   "outputs": [],
   "source": [
    "x = 5\n",
    "y = 6"
   ]
  },
  {
   "cell_type": "code",
   "execution_count": null,
   "id": "89e31b10",
   "metadata": {},
   "outputs": [],
   "source": []
  }
 ],
 "metadata": {
  "kernelspec": {
   "display_name": "Python 3 (ipykernel)",
   "language": "python",
   "name": "python3"
  }
 },
 "nbformat": 4,
 "nbformat_minor": 5
}
